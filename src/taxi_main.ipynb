{
 "cells": [
  {
   "cell_type": "markdown",
   "metadata": {},
   "source": [
    "# Проект по анализу данных о такси"
   ]
  },
  {
   "cell_type": "code",
   "execution_count": 41,
   "metadata": {},
   "outputs": [],
   "source": [
    "# Импортирование необходимых библиотек\n",
    "from pyspark.sql.functions import count_distinct, count, round, sum\n",
    "from pyspark.sql import SparkSession\n",
    "import pyspark.sql.functions as F\n",
    "from pyspark.sql.functions import col,min,max, when, row_number, percent_rank\n",
    "import pyspark.sql.types as T\n",
    "from pyspark.sql.types import   StructType,\\\n",
    "                                IntegerType,\\\n",
    "                                FloatType,\\\n",
    "                                StringType,\\\n",
    "                                TimestampNTZType,\\\n",
    "                                DoubleType,\\\n",
    "                                StructField,\\\n",
    "                                DateType\n",
    "\n",
    "from pyspark.sql.window import Window\n",
    "\n",
    "import pandas as pd\n",
    "import matplotlib.pyplot as plt\n",
    "import seaborn as sns\n"
   ]
  },
  {
   "cell_type": "code",
   "execution_count": 2,
   "metadata": {},
   "outputs": [
    {
     "name": "stderr",
     "output_type": "stream",
     "text": [
      "24/08/25 18:49:22 WARN Utils: Your hostname, alto-pc resolves to a loopback address: 127.0.1.1; using 192.168.181.138 instead (on interface eth0)\n",
      "24/08/25 18:49:22 WARN Utils: Set SPARK_LOCAL_IP if you need to bind to another address\n",
      "Setting default log level to \"WARN\".\n",
      "To adjust logging level use sc.setLogLevel(newLevel). For SparkR, use setLogLevel(newLevel).\n",
      "24/08/25 18:49:24 WARN NativeCodeLoader: Unable to load native-hadoop library for your platform... using builtin-java classes where applicable\n"
     ]
    }
   ],
   "source": [
    "# Инициализация Spark-сессии\n",
    "spark = SparkSession.builder \\\n",
    "    .master(\"local\") \\\n",
    "    .appName(\"taxi_analysis\") \\\n",
    "    .getOrCreate()"
   ]
  },
  {
   "cell_type": "code",
   "execution_count": 4,
   "metadata": {},
   "outputs": [],
   "source": [
    "# Схема данных для датафрейма, который будет создан на основе исходных данных\n",
    "dfTaxiSchema = StructType([\n",
    "    StructField(\"VendorID\", IntegerType(), True),\n",
    "    StructField(\"tpep_pickup_datetime\", TimestampNTZType(), True),\n",
    "    StructField(\"tpep_dropoff_datetime\", TimestampNTZType(), True),\n",
    "    StructField(\"passenger_count\",IntegerType(), True),\n",
    "    StructField(\"trip_distance\", DoubleType(), True),\n",
    "    StructField(\"RatecodeID\", IntegerType(), True),\n",
    "    StructField(\"store_and_fwd_flag\",StringType(), True),\n",
    "    StructField(\"PULocationID\",IntegerType(), True),\n",
    "    StructField(\"DOLocationID\",IntegerType(), True),\n",
    "    StructField(\"payment_type\",IntegerType(), True),\n",
    "    StructField(\"fare_amount\",DoubleType(), True),\n",
    "    StructField(\"extra\",DoubleType(), True),\n",
    "    StructField(\"mta_tax\",FloatType(), True),\n",
    "    StructField(\"tip_amount\",DoubleType(), True),\n",
    "    StructField(\"tolls_amount\",DoubleType(), True),\n",
    "    StructField(\"improvement_surcharge\",FloatType(), True),\n",
    "    StructField(\"total_amount\",DoubleType(), True),\n",
    "    StructField(\"congestion_surcharge\",FloatType(), True) ])"
   ]
  },
  {
   "cell_type": "code",
   "execution_count": 5,
   "metadata": {},
   "outputs": [
    {
     "name": "stderr",
     "output_type": "stream",
     "text": [
      "24/08/25 18:49:42 WARN GarbageCollectionMetrics: To enable non-built-in garbage collector(s) List(G1 Concurrent GC), users should configure it(them) to spark.eventLog.gcMetrics.youngGenerationGarbageCollectors or spark.eventLog.gcMetrics.oldGenerationGarbageCollectors\n"
     ]
    }
   ],
   "source": [
    "# Создание датафрейма на основе исходных данных\n",
    "dfTaxi = spark.read.csv('./data/yellow_tripdata_2020-01.csv', header=True, schema=dfTaxiSchema)"
   ]
  },
  {
   "cell_type": "code",
   "execution_count": 6,
   "metadata": {},
   "outputs": [
    {
     "name": "stderr",
     "output_type": "stream",
     "text": [
      "                                                                                \r"
     ]
    },
    {
     "name": "stdout",
     "output_type": "stream",
     "text": [
      "+--------+--------------------+---------------------+---------------+-------------+----------+------------------+------------+------------+------------+-----------+-----+-------+----------+------------+---------------------+------------+--------------------+\n",
      "|VendorID|tpep_pickup_datetime|tpep_dropoff_datetime|passenger_count|trip_distance|RatecodeID|store_and_fwd_flag|PULocationID|DOLocationID|payment_type|fare_amount|extra|mta_tax|tip_amount|tolls_amount|improvement_surcharge|total_amount|congestion_surcharge|\n",
      "+--------+--------------------+---------------------+---------------+-------------+----------+------------------+------------+------------+------------+-----------+-----+-------+----------+------------+---------------------+------------+--------------------+\n",
      "|       1| 2020-01-01 00:28:15|  2020-01-01 00:33:03|              1|          1.2|         1|                 N|         238|         239|           1|        6.0|  3.0|    0.5|      1.47|         0.0|                  0.3|       11.27|                 2.5|\n",
      "|       1| 2020-01-01 00:35:39|  2020-01-01 00:43:04|              1|          1.2|         1|                 N|         239|         238|           1|        7.0|  3.0|    0.5|       1.5|         0.0|                  0.3|        12.3|                 2.5|\n",
      "|       1| 2020-01-01 00:47:41|  2020-01-01 00:53:52|              1|          0.6|         1|                 N|         238|         238|           1|        6.0|  3.0|    0.5|       1.0|         0.0|                  0.3|        10.8|                 2.5|\n",
      "|       1| 2020-01-01 00:55:23|  2020-01-01 01:00:14|              1|          0.8|         1|                 N|         238|         151|           1|        5.5|  0.5|    0.5|      1.36|         0.0|                  0.3|        8.16|                 0.0|\n",
      "|       2| 2020-01-01 00:01:58|  2020-01-01 00:04:16|              1|          0.0|         1|                 N|         193|         193|           2|        3.5|  0.5|    0.5|       0.0|         0.0|                  0.3|         4.8|                 0.0|\n",
      "+--------+--------------------+---------------------+---------------+-------------+----------+------------------+------------+------------+------------+-----------+-----+-------+----------+------------+---------------------+------------+--------------------+\n",
      "only showing top 5 rows\n",
      "\n"
     ]
    }
   ],
   "source": [
    "# Отображение части датафрейма\n",
    "dfTaxi.show(5)"
   ]
  },
  {
   "cell_type": "code",
   "execution_count": 7,
   "metadata": {},
   "outputs": [
    {
     "name": "stdout",
     "output_type": "stream",
     "text": [
      "root\n",
      " |-- VendorID: integer (nullable = true)\n",
      " |-- tpep_pickup_datetime: timestamp_ntz (nullable = true)\n",
      " |-- tpep_dropoff_datetime: timestamp_ntz (nullable = true)\n",
      " |-- passenger_count: integer (nullable = true)\n",
      " |-- trip_distance: double (nullable = true)\n",
      " |-- RatecodeID: integer (nullable = true)\n",
      " |-- store_and_fwd_flag: string (nullable = true)\n",
      " |-- PULocationID: integer (nullable = true)\n",
      " |-- DOLocationID: integer (nullable = true)\n",
      " |-- payment_type: integer (nullable = true)\n",
      " |-- fare_amount: double (nullable = true)\n",
      " |-- extra: double (nullable = true)\n",
      " |-- mta_tax: float (nullable = true)\n",
      " |-- tip_amount: double (nullable = true)\n",
      " |-- tolls_amount: double (nullable = true)\n",
      " |-- improvement_surcharge: float (nullable = true)\n",
      " |-- total_amount: double (nullable = true)\n",
      " |-- congestion_surcharge: float (nullable = true)\n",
      "\n"
     ]
    }
   ],
   "source": [
    "# Отображение схемы данных датафрейма\n",
    "dfTaxi.printSchema()"
   ]
  },
  {
   "cell_type": "markdown",
   "metadata": {},
   "source": [
    "# Преобразование датафрейма.\n",
    "    - Оставляем только нужные для анализа колонки\n",
    "Нужны следущие колонки:\n",
    "* tpep_dropoff_datetime   (Время и дата, когда пассажир вышел из такси)\n",
    "* passenger_count         (Количество пассажиров)\n",
    "* trip_distance           (Пройденное расстояние)\n",
    "* fare_amount\t          (Стоимость поездки)\n",
    "* tip_amount\t          (Чаевые)\n"
   ]
  },
  {
   "cell_type": "code",
   "execution_count": 8,
   "metadata": {},
   "outputs": [],
   "source": [
    "# Датафрейм с данными, необходимыми для анализа\n",
    "dfTaxiAnalysis = dfTaxi.select(F.col('tpep_dropoff_datetime').cast(DateType()).alias('date'), 'passenger_count', 'trip_distance', 'fare_amount', 'tip_amount')\n"
   ]
  },
  {
   "cell_type": "code",
   "execution_count": 9,
   "metadata": {},
   "outputs": [
    {
     "name": "stdout",
     "output_type": "stream",
     "text": [
      "+----------+---------------+-------------+-----------+----------+\n",
      "|      date|passenger_count|trip_distance|fare_amount|tip_amount|\n",
      "+----------+---------------+-------------+-----------+----------+\n",
      "|2020-01-01|              1|          1.2|        6.0|      1.47|\n",
      "|2020-01-01|              1|          1.2|        7.0|       1.5|\n",
      "|2020-01-01|              1|          0.6|        6.0|       1.0|\n",
      "|2020-01-01|              1|          0.8|        5.5|      1.36|\n",
      "|2020-01-01|              1|          0.0|        3.5|       0.0|\n",
      "+----------+---------------+-------------+-----------+----------+\n",
      "only showing top 5 rows\n",
      "\n"
     ]
    }
   ],
   "source": [
    "dfTaxiAnalysis.show(5)"
   ]
  },
  {
   "cell_type": "markdown",
   "metadata": {},
   "source": [
    "# Анализ некорректных данных\n",
    "* отсутствующие значения (Null)\n",
    "* отрицательные или нулевые значения"
   ]
  },
  {
   "cell_type": "code",
   "execution_count": 10,
   "metadata": {},
   "outputs": [
    {
     "name": "stderr",
     "output_type": "stream",
     "text": [
      "24/08/25 18:50:59 WARN SparkStringUtils: Truncated the string representation of a plan since it was too large. This behavior can be adjusted by setting 'spark.sql.debug.maxToStringFields'.\n",
      "[Stage 4:>                                                          (0 + 1) / 1]\r"
     ]
    },
    {
     "name": "stdout",
     "output_type": "stream",
     "text": [
      "+-------+------------------+-----------------+------------------+------------------+\n",
      "|summary|   passenger_count|    trip_distance|       fare_amount|        tip_amount|\n",
      "+-------+------------------+-----------------+------------------+------------------+\n",
      "|  count|           6339567|          6405008|           6405008|           6405008|\n",
      "|   mean|1.5153326717739555|2.929643927064557|12.694108119770402|2.1893418306424284|\n",
      "| stddev| 1.151594213427812| 83.1591059733788|12.127295340046542| 2.760028392378421|\n",
      "|    min|                 0|           -30.62|           -1238.0|             -91.0|\n",
      "|    25%|                 1|             0.96|               6.5|               0.0|\n",
      "|    50%|                 1|              1.6|               9.0|              1.95|\n",
      "|    75%|                 2|             2.93|              14.0|              2.86|\n",
      "|    max|                 9|        210240.07|            4265.0|            1100.0|\n",
      "+-------+------------------+-----------------+------------------+------------------+\n",
      "\n"
     ]
    },
    {
     "name": "stderr",
     "output_type": "stream",
     "text": [
      "                                                                                \r"
     ]
    }
   ],
   "source": [
    "dfTaxiAnalysis.summary().show()"
   ]
  },
  {
   "cell_type": "markdown",
   "metadata": {},
   "source": [
    "# Создание датафрейма без некорректных значений:\n",
    "    - удаление строк с несуществующими значениями,\n",
    "    - выбор только строк с неотрицательными значениями параметров, а для дистанции и стоимости - ещё и ненулевых\n",
    "    - и сразу сортирвка по дате"
   ]
  },
  {
   "cell_type": "code",
   "execution_count": 12,
   "metadata": {},
   "outputs": [],
   "source": [
    "dfTaxiAnalysisFiltered = dfTaxiAnalysis \\\n",
    "    .dropna(how = 'any', thresh = None, subset = None) \\\n",
    "    .filter((F.col('passenger_count') >= 0) \\\n",
    "            & (F.col('trip_distance') > 0) \\\n",
    "            & (F.col('fare_amount') > 0) \\\n",
    "            & (F.col('tip_amount') >= 0)\n",
    "            ) \\\n",
    "    .orderBy(F.col('date'))"
   ]
  },
  {
   "cell_type": "code",
   "execution_count": 24,
   "metadata": {},
   "outputs": [
    {
     "name": "stderr",
     "output_type": "stream",
     "text": [
      "[Stage 14:==============================================>           (4 + 1) / 5]\r"
     ]
    },
    {
     "name": "stdout",
     "output_type": "stream",
     "text": [
      "+----------+---------------+-------------+-----------+----------+\n",
      "|      date|passenger_count|trip_distance|fare_amount|tip_amount|\n",
      "+----------+---------------+-------------+-----------+----------+\n",
      "|2008-12-31|              1|         2.69|       12.5|       0.0|\n",
      "|2008-12-31|              1|         2.34|        9.5|       0.0|\n",
      "|2008-12-31|              1|         0.42|        3.5|       0.0|\n",
      "|2008-12-31|              1|         3.48|       16.5|       0.0|\n",
      "|2009-01-01|              1|          0.9|        5.0|       0.0|\n",
      "+----------+---------------+-------------+-----------+----------+\n",
      "only showing top 5 rows\n",
      "\n"
     ]
    },
    {
     "name": "stderr",
     "output_type": "stream",
     "text": [
      "                                                                                \r"
     ]
    }
   ],
   "source": [
    "# отображение получившегося датафрейма\n",
    "# dfTaxiAnalysisFiltered.show(5)"
   ]
  },
  {
   "cell_type": "code",
   "execution_count": 13,
   "metadata": {},
   "outputs": [
    {
     "name": "stderr",
     "output_type": "stream",
     "text": [
      "[Stage 8:=============================>                             (1 + 1) / 2]\r"
     ]
    },
    {
     "name": "stdout",
     "output_type": "stream",
     "text": [
      "+-------+------------------+------------------+------------------+------------------+\n",
      "|summary|   passenger_count|     trip_distance|       fare_amount|        tip_amount|\n",
      "+-------+------------------+------------------+------------------+------------------+\n",
      "|  count|           6253534|           6253534|           6253534|           6253534|\n",
      "|   mean|1.5184663583823164| 2.881211329465562|12.403576483313318| 2.209460951200792|\n",
      "| stddev|1.1547694333418372|3.7635348559737007|11.290425681369873|2.6863890973066544|\n",
      "|    min|                 0|              0.01|              0.01|               0.0|\n",
      "|    25%|                 1|              0.99|               6.5|               0.0|\n",
      "|    50%|                 1|               1.6|               9.0|              1.96|\n",
      "|    75%|                 2|               2.9|              13.5|              2.86|\n",
      "|    max|                 9|            262.88|            4265.0|            1100.0|\n",
      "+-------+------------------+------------------+------------------+------------------+\n",
      "\n"
     ]
    },
    {
     "name": "stderr",
     "output_type": "stream",
     "text": [
      "                                                                                \r"
     ]
    }
   ],
   "source": [
    "# Описательная статистика по получившемуся датафрейму (необязательно)\n",
    "dfTaxiAnalysisFiltered.summary().show()"
   ]
  },
  {
   "cell_type": "markdown",
   "metadata": {},
   "source": [
    "# Основное задание\n",
    "Необходимо, используя таблицу поездок для каждого дня, рассчитать процент поездок по количеству человек в машине (без пассажиров, 1, 2, 3, 4 и более пассажиров). По итогу должна получиться таблица (parquet) с колонками date, percentage_zero, percentage_1p, percentage_2p, percentage_3p, percentage_4p_plus. "
   ]
  },
  {
   "cell_type": "markdown",
   "metadata": {},
   "source": [
    "- Можно использовать оконные функции и группировку\n",
    "- Основание для разбиения данных - дата (date)"
   ]
  },
  {
   "cell_type": "code",
   "execution_count": 14,
   "metadata": {},
   "outputs": [
    {
     "name": "stderr",
     "output_type": "stream",
     "text": [
      "[Stage 15:>                                                         (0 + 1) / 1]\r"
     ]
    },
    {
     "name": "stdout",
     "output_type": "stream",
     "text": [
      "+----------+---------------+-----------+------+----------+-----------+---------------+-------------+-------------+-------------+------------------+--------------+--------+\n",
      "|      date|passenger_count|fare_amount|c_date|c_date_pas|percent_pas|percentage_zero|percentage_1p|percentage_2p|percentage_3p|percentage_4p_plus|most_expensive|cheapest|\n",
      "+----------+---------------+-----------+------+----------+-----------+---------------+-------------+-------------+-------------+------------------+--------------+--------+\n",
      "|2008-12-31|              1|        9.5|     4|         4|      100.0|            0.0|        100.0|          0.0|          0.0|               0.0|          16.5|     3.5|\n",
      "|2008-12-31|              1|        3.5|     4|         4|      100.0|            0.0|        100.0|          0.0|          0.0|               0.0|          16.5|     3.5|\n",
      "|2008-12-31|              1|       12.5|     4|         4|      100.0|            0.0|        100.0|          0.0|          0.0|               0.0|          16.5|     3.5|\n",
      "|2008-12-31|              1|       16.5|     4|         4|      100.0|            0.0|        100.0|          0.0|          0.0|               0.0|          16.5|     3.5|\n",
      "|2009-01-01|              1|        5.0|    25|        19|       76.0|            0.0|         76.0|          0.0|          0.0|               0.0|          74.5|     2.5|\n",
      "|2009-01-01|              1|        5.5|    25|        19|       76.0|            0.0|         76.0|          0.0|          0.0|               0.0|          74.5|     2.5|\n",
      "|2009-01-01|              1|        2.5|    25|        19|       76.0|            0.0|         76.0|          0.0|          0.0|               0.0|          74.5|     2.5|\n",
      "|2009-01-01|              1|        7.5|    25|        19|       76.0|            0.0|         76.0|          0.0|          0.0|               0.0|          74.5|     2.5|\n",
      "|2009-01-01|              1|       24.0|    25|        19|       76.0|            0.0|         76.0|          0.0|          0.0|               0.0|          74.5|     2.5|\n",
      "|2009-01-01|              1|        6.0|    25|        19|       76.0|            0.0|         76.0|          0.0|          0.0|               0.0|          74.5|     2.5|\n",
      "|2009-01-01|              1|       52.0|    25|        19|       76.0|            0.0|         76.0|          0.0|          0.0|               0.0|          74.5|     2.5|\n",
      "|2009-01-01|              1|       15.0|    25|        19|       76.0|            0.0|         76.0|          0.0|          0.0|               0.0|          74.5|     2.5|\n",
      "|2009-01-01|              1|        7.5|    25|        19|       76.0|            0.0|         76.0|          0.0|          0.0|               0.0|          74.5|     2.5|\n",
      "|2009-01-01|              1|       10.5|    25|        19|       76.0|            0.0|         76.0|          0.0|          0.0|               0.0|          74.5|     2.5|\n",
      "|2009-01-01|              1|       52.0|    25|        19|       76.0|            0.0|         76.0|          0.0|          0.0|               0.0|          74.5|     2.5|\n",
      "|2009-01-01|              1|       11.0|    25|        19|       76.0|            0.0|         76.0|          0.0|          0.0|               0.0|          74.5|     2.5|\n",
      "|2009-01-01|              1|       74.5|    25|        19|       76.0|            0.0|         76.0|          0.0|          0.0|               0.0|          74.5|     2.5|\n",
      "|2009-01-01|              1|       19.5|    25|        19|       76.0|            0.0|         76.0|          0.0|          0.0|               0.0|          74.5|     2.5|\n",
      "|2009-01-01|              1|        5.0|    25|        19|       76.0|            0.0|         76.0|          0.0|          0.0|               0.0|          74.5|     2.5|\n",
      "|2009-01-01|              1|       52.0|    25|        19|       76.0|            0.0|         76.0|          0.0|          0.0|               0.0|          74.5|     2.5|\n",
      "|2009-01-01|              1|        7.5|    25|        19|       76.0|            0.0|         76.0|          0.0|          0.0|               0.0|          74.5|     2.5|\n",
      "|2009-01-01|              1|        6.5|    25|        19|       76.0|            0.0|         76.0|          0.0|          0.0|               0.0|          74.5|     2.5|\n",
      "|2009-01-01|              1|       10.0|    25|        19|       76.0|            0.0|         76.0|          0.0|          0.0|               0.0|          74.5|     2.5|\n",
      "|2009-01-01|              2|       30.0|    25|         1|        4.0|            0.0|          0.0|          4.0|          0.0|               0.0|          30.0|    30.0|\n",
      "|2009-01-01|              3|        4.5|    25|         2|        8.0|            0.0|          0.0|          0.0|          8.0|               0.0|          10.5|     4.5|\n",
      "|2009-01-01|              3|       10.5|    25|         2|        8.0|            0.0|          0.0|          0.0|          8.0|               0.0|          10.5|     4.5|\n",
      "|2009-01-01|              5|       52.0|    25|         2|        8.0|            0.0|          0.0|          0.0|          0.0|               8.0|          52.0|     8.5|\n",
      "|2009-01-01|              5|        8.5|    25|         2|        8.0|            0.0|          0.0|          0.0|          0.0|               8.0|          52.0|     8.5|\n",
      "|2009-01-01|              6|       52.0|    25|         1|        4.0|            0.0|          0.0|          0.0|          0.0|               4.0|          52.0|    52.0|\n",
      "|2019-12-31|              1|        6.0|    63|        37|       59.0|            0.0|         59.0|          0.0|          0.0|               0.0|          60.0|     2.5|\n",
      "+----------+---------------+-----------+------+----------+-----------+---------------+-------------+-------------+-------------+------------------+--------------+--------+\n",
      "only showing top 30 rows\n",
      "\n"
     ]
    },
    {
     "name": "stderr",
     "output_type": "stream",
     "text": [
      "                                                                                \r"
     ]
    }
   ],
   "source": [
    "# Построение датафрейма с использованием оконных функций\n",
    "partitionByDate  = Window.partitionBy(col(\"date\"))\n",
    "partitionByDatePas  = Window.partitionBy(col(\"date\"), col('passenger_count'))\n",
    "\n",
    "dfResultWinFunc = dfTaxiAnalysisFiltered.select('date', 'passenger_count', 'fare_amount')\\\n",
    "    .withColumn(\"c_date\",count(col('date')).over(partitionByDate))\\\n",
    "    .withColumn(\"c_date_pas\",count(col('passenger_count')).over(partitionByDatePas))\\\n",
    "    .withColumn('percent_pas', round((col('c_date_pas') / col('c_date'))*100, 0))\\\n",
    "    .withColumn('percentage_zero', when(col('passenger_count') == 0, col('percent_pas')).otherwise(0))\\\n",
    "    .withColumn('percentage_1p', when(col('passenger_count') == 1, col('percent_pas')).otherwise(0))\\\n",
    "    .withColumn('percentage_2p', when(col('passenger_count') == 2, col('percent_pas')).otherwise(0))\\\n",
    "    .withColumn('percentage_3p', when(col('passenger_count') == 3, col('percent_pas')).otherwise(0))\\\n",
    "    .withColumn('percentage_4p_plus', when(col('passenger_count') >= 4, col('percent_pas')).otherwise(0))\\\n",
    "    .withColumn(\"most_expensive\",max(col('fare_amount')).over(partitionByDatePas))\\\n",
    "    .withColumn(\"cheapest\",min(col('fare_amount')).over(partitionByDatePas))\n",
    "  \n",
    "# dfResultWinFunc.show(30)"
   ]
  },
  {
   "cell_type": "code",
   "execution_count": 79,
   "metadata": {},
   "outputs": [
    {
     "name": "stderr",
     "output_type": "stream",
     "text": [
      "[Stage 148:>                                                        (0 + 1) / 1]\r"
     ]
    },
    {
     "name": "stdout",
     "output_type": "stream",
     "text": [
      "+-------+------------------+------------------+------------------+------------------+-----------------+--------------------+------------------+-----------------+-------------------+-------------------+-----------------+------------------+\n",
      "|summary|   passenger_count|       fare_amount|            c_date|        c_date_pas|      percent_pas|     percentage_zero|     percentage_1p|    percentage_2p|      percentage_3p| percentage_4p_plus|   most_expensive|          cheapest|\n",
      "+-------+------------------+------------------+------------------+------------------+-----------------+--------------------+------------------+-----------------+-------------------+-------------------+-----------------+------------------+\n",
      "|  count|           6253534|           6253534|           6253534|           6253534|          6253534|             6253534|           6253534|          6253534|            6253534|            6253534|          6253534|           6253534|\n",
      "|   mean|1.5184663583823164|12.403576483313302| 204523.1863605443|111161.55399235057|54.11807499567445|0.035842932971980324|  51.4175483814432|2.286013796358987|0.16166394873682624|0.21700593616345573|490.7208521010809|0.3881117220829463|\n",
      "| stddev|1.1547694333418677|11.290425681369275|24246.852435321096|61062.234081142495|28.40693858909521|  0.2653216246775148|32.480394086484274|5.505069710249514| 0.8183768561990236| 0.7960308021906217|628.6968608165743| 0.901246529812519|\n",
      "|    min|                 0|              0.01|                 1|                 1|              0.0|                 0.0|               0.0|              0.0|                0.0|                0.0|              5.0|              0.01|\n",
      "|    25%|                 1|               6.5|            185289|             33493|             17.0|                 0.0|               0.0|              0.0|                0.0|                0.0|            304.0|              0.01|\n",
      "|    50%|                 1|               9.0|            211667|            137771|             71.0|                 0.0|              71.0|              0.0|                0.0|                0.0|            350.0|              0.01|\n",
      "|    75%|                 2|              13.5|            224323|            158240|             74.0|                 0.0|              74.0|              0.0|                0.0|                0.0|            464.0|              0.01|\n",
      "|    max|                 9|            4265.0|            238006|            176943|            100.0|                 2.0|             100.0|             33.0|              100.0|               50.0|           4265.0|              95.5|\n",
      "+-------+------------------+------------------+------------------+------------------+-----------------+--------------------+------------------+-----------------+-------------------+-------------------+-----------------+------------------+\n",
      "\n"
     ]
    },
    {
     "name": "stderr",
     "output_type": "stream",
     "text": [
      "                                                                                \r"
     ]
    }
   ],
   "source": [
    "# dfResultWinFunc.summary().show()"
   ]
  },
  {
   "cell_type": "code",
   "execution_count": 15,
   "metadata": {},
   "outputs": [
    {
     "name": "stderr",
     "output_type": "stream",
     "text": [
      "[Stage 19:>                                                         (0 + 1) / 1]\r"
     ]
    },
    {
     "name": "stdout",
     "output_type": "stream",
     "text": [
      "+----------+---------------+-------------+-------------+-------------+------------------+--------------+--------+\n",
      "|      date|percentage_zero|percentage_1p|percentage_2p|percentage_3p|percentage_4p_plus|most_expensive|cheapest|\n",
      "+----------+---------------+-------------+-------------+-------------+------------------+--------------+--------+\n",
      "|2008-12-31|            0.0|        100.0|          0.0|          0.0|               0.0|          16.5|     3.5|\n",
      "|2009-01-01|            0.0|         76.0|          4.0|          8.0|               8.0|          74.5|     2.5|\n",
      "|2019-12-31|            0.0|         59.0|         14.0|          5.0|              16.0|          60.0|     2.5|\n",
      "|2020-01-01|            2.0|         63.0|         20.0|          6.0|               4.0|         400.0|    0.01|\n",
      "|2020-01-02|            2.0|         69.0|         16.0|          5.0|               4.0|         400.0|    0.01|\n",
      "|2020-01-03|            2.0|         69.0|         16.0|          5.0|               4.0|         378.0|    0.01|\n",
      "|2020-01-04|            2.0|         66.0|         18.0|          5.0|               4.0|         575.0|    0.01|\n",
      "|2020-01-05|            2.0|         68.0|         17.0|          5.0|               4.0|        1238.0|    0.01|\n",
      "|2020-01-06|            2.0|         74.0|         14.0|          4.0|               3.0|         499.0|    0.01|\n",
      "|2020-01-07|            2.0|         74.0|         14.0|          3.0|               3.0|         383.0|    0.01|\n",
      "|2020-01-08|            2.0|         74.0|         14.0|          4.0|               3.0|         350.0|    0.01|\n",
      "|2020-01-09|            2.0|         74.0|         14.0|          3.0|               3.0|         550.0|    0.01|\n",
      "|2020-01-10|            2.0|         72.0|         15.0|          4.0|               4.0|         450.0|    0.01|\n",
      "|2020-01-11|            2.0|         67.0|         18.0|          5.0|               4.0|         400.0|    0.01|\n",
      "|2020-01-12|            2.0|         69.0|         17.0|          5.0|               4.0|         600.0|    0.01|\n",
      "|2020-01-13|            2.0|         75.0|         13.0|          4.0|               3.0|        520.02|    0.01|\n",
      "|2020-01-14|            2.0|         74.0|         13.0|          3.0|               4.0|         496.5|    0.01|\n",
      "|2020-01-15|            2.0|         74.0|         13.0|          3.0|               3.0|         347.0|    0.01|\n",
      "|2020-01-16|            2.0|         74.0|         14.0|          3.0|               3.0|         306.0|    0.01|\n",
      "|2020-01-17|            2.0|         72.0|         15.0|          4.0|               3.0|         765.5|    0.01|\n",
      "|2020-01-18|            2.0|         67.0|         18.0|          5.0|               4.0|         420.0|    0.01|\n",
      "|2020-01-19|            2.0|         67.0|         18.0|          5.0|               4.0|         464.0|    0.01|\n",
      "|2020-01-20|            2.0|         71.0|         16.0|          4.0|               4.0|         614.0|    0.01|\n",
      "|2020-01-21|            2.0|         74.0|         13.0|          3.0|               4.0|         400.0|    0.01|\n",
      "|2020-01-22|            2.0|         75.0|         13.0|          3.0|               4.0|         360.0|    0.01|\n",
      "|2020-01-23|            2.0|         74.0|         13.0|          3.0|               4.0|        520.02|    0.01|\n",
      "|2020-01-24|            2.0|         72.0|         15.0|          4.0|               4.0|         350.0|    0.01|\n",
      "|2020-01-25|            2.0|         67.0|         18.0|          5.0|               4.0|         350.0|    0.01|\n",
      "|2020-01-26|            2.0|         68.0|         17.0|          5.0|               4.0|         347.5|    0.01|\n",
      "|2020-01-27|            2.0|         74.0|         13.0|          3.0|               3.0|        4265.0|    0.01|\n",
      "|2020-01-28|            2.0|         75.0|         13.0|          3.0|               4.0|        1718.5|    0.01|\n",
      "|2020-01-29|            2.0|         75.0|         13.0|          3.0|               4.0|         304.0|    0.01|\n",
      "|2020-01-30|            2.0|         74.0|         13.0|          3.0|               4.0|        329.17|    0.01|\n",
      "|2020-01-31|            2.0|         73.0|         15.0|          4.0|               3.0|         350.0|    0.01|\n",
      "|2020-02-01|            1.0|         67.0|         18.0|          5.0|               4.0|         245.0|     3.5|\n",
      "|2020-02-02|            0.0|         33.0|         33.0|         33.0|               0.0|          39.5|     5.5|\n",
      "|2020-02-12|            0.0|        100.0|          0.0|          0.0|               0.0|          13.5|     6.5|\n",
      "|2020-02-23|            0.0|          0.0|          0.0|        100.0|               0.0|          21.0|    21.0|\n",
      "|2020-03-04|            0.0|        100.0|          0.0|          0.0|               0.0|           8.5|     8.5|\n",
      "|2020-03-16|            0.0|          0.0|          0.0|        100.0|               0.0|           6.0|     6.0|\n",
      "|2020-03-25|            0.0|        100.0|          0.0|          0.0|               0.0|           7.0|     7.0|\n",
      "|2020-03-26|            0.0|         50.0|          0.0|          0.0|              50.0|          18.0|    14.0|\n",
      "|2020-04-16|            0.0|        100.0|          0.0|          0.0|               0.0|           5.5|     5.5|\n",
      "|2020-05-07|            0.0|        100.0|          0.0|          0.0|               0.0|          22.0|     6.0|\n",
      "|2020-05-28|            0.0|        100.0|          0.0|          0.0|               0.0|          12.5|    12.5|\n",
      "|2020-05-29|            0.0|        100.0|          0.0|          0.0|               0.0|           6.5|     6.5|\n",
      "|2020-06-19|            0.0|        100.0|          0.0|          0.0|               0.0|          22.0|    22.0|\n",
      "|2020-07-10|            0.0|        100.0|          0.0|          0.0|               0.0|          12.5|     3.5|\n",
      "|2020-07-31|            0.0|        100.0|          0.0|          0.0|               0.0|           5.0|     5.0|\n",
      "|2021-01-02|            0.0|        100.0|          0.0|          0.0|               0.0|          11.5|    10.0|\n",
      "+----------+---------------+-------------+-------------+-------------+------------------+--------------+--------+\n",
      "\n"
     ]
    },
    {
     "name": "stderr",
     "output_type": "stream",
     "text": [
      "                                                                                \r"
     ]
    }
   ],
   "source": [
    "# Получение итоговой витрины данных с помощью группировки данных по дате\n",
    "dfResult = dfResultWinFunc.groupBy('date')\\\n",
    "    .agg(max(col('percentage_zero')).alias('percentage_zero'),\\\n",
    "         max(col('percentage_1p')).alias('percentage_1p'),\\\n",
    "         max(col('percentage_2p')).alias('percentage_2p'),\\\n",
    "         max(col('percentage_3p')).alias('percentage_3p'),\\\n",
    "         max(col('percentage_4p_plus')).alias('percentage_4p_plus'),\\\n",
    "         max('fare_amount').alias('most_expensive'),\\\n",
    "         min('fare_amount').alias('cheapest')\n",
    "        )\\\n",
    "    .orderBy('date')\n",
    "\n",
    "dfResult.show(100)"
   ]
  },
  {
   "cell_type": "code",
   "execution_count": 76,
   "metadata": {},
   "outputs": [
    {
     "name": "stderr",
     "output_type": "stream",
     "text": [
      "[Stage 133:>                                                        (0 + 1) / 1]\r"
     ]
    },
    {
     "name": "stdout",
     "output_type": "stream",
     "text": [
      "+-------+------------------+------------------+-----------------+------------------+------------------+------------------+-----------------+\n",
      "|summary|   percentage_zero|     percentage_1p|    percentage_2p|     percentage_3p|percentage_4p_plus|    most_expensive|         cheapest|\n",
      "+-------+------------------+------------------+-----------------+------------------+------------------+------------------+-----------------+\n",
      "|  count|                50|                50|               50|                50|                50|                50|               50|\n",
      "|   mean|              1.26|             73.98|            10.76|               7.5|              3.84|401.14419999999996|           3.0362|\n",
      "| stddev|0.9648939880439016|21.262681690065843|7.903912748423649|19.646103627821525|  7.17808456060415| 644.8430520964787|5.207583908422917|\n",
      "|    min|               0.0|               0.0|              0.0|               0.0|               0.0|               5.0|             0.01|\n",
      "|    25%|               0.0|              68.0|              0.0|               0.0|               0.0|              21.0|             0.01|\n",
      "|    50%|               2.0|              74.0|             13.0|               3.0|               3.0|             350.0|             0.01|\n",
      "|    75%|               2.0|              76.0|             16.0|               5.0|               4.0|             464.0|              5.5|\n",
      "|    max|               2.0|             100.0|             33.0|             100.0|              50.0|            4265.0|             22.0|\n",
      "+-------+------------------+------------------+-----------------+------------------+------------------+------------------+-----------------+\n",
      "\n"
     ]
    },
    {
     "name": "stderr",
     "output_type": "stream",
     "text": [
      "                                                                                \r"
     ]
    }
   ],
   "source": [
    "# dfResult.summary().show()"
   ]
  },
  {
   "cell_type": "code",
   "execution_count": 16,
   "metadata": {},
   "outputs": [
    {
     "name": "stderr",
     "output_type": "stream",
     "text": [
      "                                                                                \r"
     ]
    }
   ],
   "source": [
    "# Запись полученной таблицы в файл формата parquet\n",
    "dfResult.write.mode('overwrite').parquet('./result/taxi_analysis_data_showcase.parquet')"
   ]
  },
  {
   "cell_type": "markdown",
   "metadata": {},
   "source": [
    "# Дополнительное задание: \n",
    "    - провести аналитику и построить график на тему «Как пройденное расстояние и количество  пассажиров влияет на чаевые» в любом удобном инструменте."
   ]
  },
  {
   "cell_type": "code",
   "execution_count": 17,
   "metadata": {},
   "outputs": [
    {
     "name": "stderr",
     "output_type": "stream",
     "text": [
      "[Stage 24:==============================================>           (4 + 1) / 5]\r"
     ]
    },
    {
     "name": "stdout",
     "output_type": "stream",
     "text": [
      "+---------------+-------------+----------+\n",
      "|passenger_count|trip_distance|tip_amount|\n",
      "+---------------+-------------+----------+\n",
      "|              0|          1.0|       0.0|\n",
      "|              0|          0.7|       0.0|\n",
      "|              0|          2.1|       0.0|\n",
      "|              0|          0.7|       0.0|\n",
      "|              0|          0.8|       0.0|\n",
      "+---------------+-------------+----------+\n",
      "only showing top 5 rows\n",
      "\n"
     ]
    },
    {
     "name": "stderr",
     "output_type": "stream",
     "text": [
      "                                                                                \r"
     ]
    }
   ],
   "source": [
    "# Получение датафрейма с необходимыми для анализа данными\n",
    "# - количество пассажиров\n",
    "# - пройденное расстояние\n",
    "# - размер чаевых\n",
    "\n",
    "dfTipAnalysisPyspark = dfTaxiAnalysisFiltered.select('passenger_count', 'trip_distance', 'tip_amount')\\\n",
    "    .orderBy(col('passenger_count'), col('tip_amount'))\n",
    "\n",
    "# dfTipAnalysisPyspark.show(5)"
   ]
  },
  {
   "cell_type": "code",
   "execution_count": 18,
   "metadata": {},
   "outputs": [
    {
     "name": "stderr",
     "output_type": "stream",
     "text": [
      "[Stage 28:>                                                         (0 + 1) / 1]\r"
     ]
    },
    {
     "name": "stdout",
     "output_type": "stream",
     "text": [
      "+-------+------------------+------------------+------------------+\n",
      "|summary|   passenger_count|     trip_distance|        tip_amount|\n",
      "+-------+------------------+------------------+------------------+\n",
      "|  count|           6253534|           6253534|           6253534|\n",
      "|   mean|1.5184663583823164|2.8812113294656743|2.2094609512042376|\n",
      "| stddev|1.1547694333418368|3.7635348559735093| 2.686389097306496|\n",
      "|    min|                 0|              0.01|               0.0|\n",
      "|    25%|                 1|              0.99|               0.0|\n",
      "|    50%|                 1|               1.6|              1.96|\n",
      "|    75%|                 2|               2.9|              2.86|\n",
      "|    max|                 9|            262.88|            1100.0|\n",
      "+-------+------------------+------------------+------------------+\n",
      "\n"
     ]
    },
    {
     "name": "stderr",
     "output_type": "stream",
     "text": [
      "                                                                                \r"
     ]
    }
   ],
   "source": [
    "# Описание\n",
    "# dfTipAnalysisPyspark.summary().show()"
   ]
  },
  {
   "cell_type": "code",
   "execution_count": 19,
   "metadata": {},
   "outputs": [
    {
     "name": "stderr",
     "output_type": "stream",
     "text": [
      "                                                                                \r"
     ]
    }
   ],
   "source": [
    "# Преобразование датафрейма pyspark в датафрейм pandas\n",
    "dfTipAnalysisPandas = dfTipAnalysisPyspark.toPandas()"
   ]
  },
  {
   "cell_type": "markdown",
   "metadata": {},
   "source": [
    "# Остановка Spark-сессии.\n",
    "-  Далее анализ будет осуществляться средствами Pandas"
   ]
  },
  {
   "cell_type": "code",
   "execution_count": 20,
   "metadata": {},
   "outputs": [],
   "source": [
    "spark.stop()"
   ]
  },
  {
   "cell_type": "code",
   "execution_count": 21,
   "metadata": {},
   "outputs": [
    {
     "data": {
      "text/html": [
       "<div>\n",
       "<style scoped>\n",
       "    .dataframe tbody tr th:only-of-type {\n",
       "        vertical-align: middle;\n",
       "    }\n",
       "\n",
       "    .dataframe tbody tr th {\n",
       "        vertical-align: top;\n",
       "    }\n",
       "\n",
       "    .dataframe thead th {\n",
       "        text-align: right;\n",
       "    }\n",
       "</style>\n",
       "<table border=\"1\" class=\"dataframe\">\n",
       "  <thead>\n",
       "    <tr style=\"text-align: right;\">\n",
       "      <th></th>\n",
       "      <th>passenger_count</th>\n",
       "      <th>trip_distance</th>\n",
       "      <th>tip_amount</th>\n",
       "    </tr>\n",
       "  </thead>\n",
       "  <tbody>\n",
       "    <tr>\n",
       "      <th>0</th>\n",
       "      <td>0</td>\n",
       "      <td>2.5</td>\n",
       "      <td>0.0</td>\n",
       "    </tr>\n",
       "    <tr>\n",
       "      <th>1</th>\n",
       "      <td>0</td>\n",
       "      <td>0.7</td>\n",
       "      <td>0.0</td>\n",
       "    </tr>\n",
       "    <tr>\n",
       "      <th>2</th>\n",
       "      <td>0</td>\n",
       "      <td>2.8</td>\n",
       "      <td>0.0</td>\n",
       "    </tr>\n",
       "    <tr>\n",
       "      <th>3</th>\n",
       "      <td>0</td>\n",
       "      <td>0.7</td>\n",
       "      <td>0.0</td>\n",
       "    </tr>\n",
       "    <tr>\n",
       "      <th>4</th>\n",
       "      <td>0</td>\n",
       "      <td>0.2</td>\n",
       "      <td>0.0</td>\n",
       "    </tr>\n",
       "  </tbody>\n",
       "</table>\n",
       "</div>"
      ],
      "text/plain": [
       "   passenger_count  trip_distance  tip_amount\n",
       "0                0            2.5         0.0\n",
       "1                0            0.7         0.0\n",
       "2                0            2.8         0.0\n",
       "3                0            0.7         0.0\n",
       "4                0            0.2         0.0"
      ]
     },
     "metadata": {},
     "output_type": "display_data"
    }
   ],
   "source": [
    "# Отображение получившегося датафрейма pandas\n",
    "display(dfTipAnalysisPandas.head(5))"
   ]
  },
  {
   "cell_type": "code",
   "execution_count": 22,
   "metadata": {},
   "outputs": [
    {
     "data": {
      "text/html": [
       "<div>\n",
       "<style scoped>\n",
       "    .dataframe tbody tr th:only-of-type {\n",
       "        vertical-align: middle;\n",
       "    }\n",
       "\n",
       "    .dataframe tbody tr th {\n",
       "        vertical-align: top;\n",
       "    }\n",
       "\n",
       "    .dataframe thead th {\n",
       "        text-align: right;\n",
       "    }\n",
       "</style>\n",
       "<table border=\"1\" class=\"dataframe\">\n",
       "  <thead>\n",
       "    <tr style=\"text-align: right;\">\n",
       "      <th></th>\n",
       "      <th>passenger_count</th>\n",
       "      <th>trip_distance</th>\n",
       "      <th>tip_amount</th>\n",
       "    </tr>\n",
       "  </thead>\n",
       "  <tbody>\n",
       "    <tr>\n",
       "      <th>count</th>\n",
       "      <td>6253534.00</td>\n",
       "      <td>6253534.00</td>\n",
       "      <td>6253534.00</td>\n",
       "    </tr>\n",
       "    <tr>\n",
       "      <th>mean</th>\n",
       "      <td>1.52</td>\n",
       "      <td>2.88</td>\n",
       "      <td>2.21</td>\n",
       "    </tr>\n",
       "    <tr>\n",
       "      <th>std</th>\n",
       "      <td>1.15</td>\n",
       "      <td>3.76</td>\n",
       "      <td>2.69</td>\n",
       "    </tr>\n",
       "    <tr>\n",
       "      <th>min</th>\n",
       "      <td>0.00</td>\n",
       "      <td>0.01</td>\n",
       "      <td>0.00</td>\n",
       "    </tr>\n",
       "    <tr>\n",
       "      <th>25%</th>\n",
       "      <td>1.00</td>\n",
       "      <td>0.99</td>\n",
       "      <td>0.00</td>\n",
       "    </tr>\n",
       "    <tr>\n",
       "      <th>50%</th>\n",
       "      <td>1.00</td>\n",
       "      <td>1.60</td>\n",
       "      <td>1.96</td>\n",
       "    </tr>\n",
       "    <tr>\n",
       "      <th>75%</th>\n",
       "      <td>2.00</td>\n",
       "      <td>2.90</td>\n",
       "      <td>2.86</td>\n",
       "    </tr>\n",
       "    <tr>\n",
       "      <th>max</th>\n",
       "      <td>9.00</td>\n",
       "      <td>262.88</td>\n",
       "      <td>1100.00</td>\n",
       "    </tr>\n",
       "  </tbody>\n",
       "</table>\n",
       "</div>"
      ],
      "text/plain": [
       "       passenger_count  trip_distance  tip_amount\n",
       "count       6253534.00     6253534.00  6253534.00\n",
       "mean              1.52           2.88        2.21\n",
       "std               1.15           3.76        2.69\n",
       "min               0.00           0.01        0.00\n",
       "25%               1.00           0.99        0.00\n",
       "50%               1.00           1.60        1.96\n",
       "75%               2.00           2.90        2.86\n",
       "max               9.00         262.88     1100.00"
      ]
     },
     "execution_count": 22,
     "metadata": {},
     "output_type": "execute_result"
    }
   ],
   "source": [
    "# Описательная статистика анализируемого датафрейма\n",
    "dfTipAnalysisPandas.describe().round(2)"
   ]
  },
  {
   "cell_type": "markdown",
   "metadata": {},
   "source": [
    "Приведённая статистика позволяет сделать вывод о наличии выбросов (очень большое расстояние и огромные чаевые). Эти выбросы влияют на результат. От них желательно избавиться."
   ]
  },
  {
   "cell_type": "markdown",
   "metadata": {},
   "source": [
    "# Анализ зависимости размера чаевых от количества пассажиров\n"
   ]
  },
  {
   "cell_type": "code",
   "execution_count": 23,
   "metadata": {},
   "outputs": [
    {
     "data": {
      "text/plain": [
       "<Axes: xlabel='passenger_count', ylabel='count'>"
      ]
     },
     "execution_count": 23,
     "metadata": {},
     "output_type": "execute_result"
    },
    {
     "data": {
      "image/png": "[encoded data removed]",
      "text/plain": [
       "<Figure size 640x480 with 1 Axes>"
      ]
     },
     "metadata": {},
     "output_type": "display_data"
    }
   ],
   "source": [
    "# распределение количества пассажиров\n",
    "sns.countplot(x='passenger_count', data=dfTipAnalysisPandas)"
   ]
  },
  {
   "cell_type": "markdown",
   "metadata": {},
   "source": [
    "* Распределение пассажиров позволяет сделать вывод о том, что в подавляющем большинстве случаев поездки совершаются с одним пассажиром.\n",
    "* Количество поездок более чем с 6 пассажирами - крайне незначительное\n"
   ]
  },
  {
   "cell_type": "code",
   "execution_count": 24,
   "metadata": {},
   "outputs": [
    {
     "name": "stdout",
     "output_type": "stream",
     "text": [
      "Количество поездок без пассажиров: 112090\n",
      "Количество поездок c 1 пассажиром: 4478725\n",
      "Количество поездок с 2 пассажирами: 936769\n",
      "Количество поездок с 3 пассажирами: 248045\n",
      "Количество поездок с 4 пассажирами: 121811\n",
      "Количество поездок с 5 пассажирами: 224480\n",
      "Количество поездок с 6 пассажирами: 131582\n",
      "Количество поездок с более чем 6 пассажирами: 32\n"
     ]
    }
   ],
   "source": [
    "print('Количество поездок без пассажиров: ' + str(dfTipAnalysisPandas[dfTipAnalysisPandas['passenger_count'] == 0].passenger_count.count()))\n",
    "print('Количество поездок c 1 пассажиром: ' + str(dfTipAnalysisPandas[dfTipAnalysisPandas['passenger_count'] == 1].passenger_count.count()))\n",
    "print('Количество поездок с 2 пассажирами: ' + str(dfTipAnalysisPandas[dfTipAnalysisPandas['passenger_count'] == 2].passenger_count.count()))\n",
    "print('Количество поездок с 3 пассажирами: ' + str(dfTipAnalysisPandas[dfTipAnalysisPandas['passenger_count'] == 3].passenger_count.count()))\n",
    "print('Количество поездок с 4 пассажирами: ' + str(dfTipAnalysisPandas[dfTipAnalysisPandas['passenger_count'] == 4].passenger_count.count()))\n",
    "print('Количество поездок с 5 пассажирами: ' + str(dfTipAnalysisPandas[dfTipAnalysisPandas['passenger_count'] == 5].passenger_count.count()))\n",
    "print('Количество поездок с 6 пассажирами: ' + str(dfTipAnalysisPandas[dfTipAnalysisPandas['passenger_count'] == 6].passenger_count.count()))\n",
    "print('Количество поездок с более чем 6 пассажирами: ' + str(dfTipAnalysisPandas[dfTipAnalysisPandas['passenger_count'] > 6].passenger_count.count()))"
   ]
  },
  {
   "cell_type": "markdown",
   "metadata": {},
   "source": [
    "* Всего 32 поездки с количеством пассажиров, превышающим 6 человек. Их можно удалить\n",
    "* Поездки с двумя пассажирами занимают значительную долю, если не учитывать поездки с 1 пассажиром.\n",
    "* В остальных случаях (3 - 6 пассажиров) порядок количества поездок, примерно, схож."
   ]
  },
  {
   "cell_type": "code",
   "execution_count": 25,
   "metadata": {},
   "outputs": [
    {
     "data": {
      "text/html": [
       "<div>\n",
       "<style scoped>\n",
       "    .dataframe tbody tr th:only-of-type {\n",
       "        vertical-align: middle;\n",
       "    }\n",
       "\n",
       "    .dataframe tbody tr th {\n",
       "        vertical-align: top;\n",
       "    }\n",
       "\n",
       "    .dataframe thead th {\n",
       "        text-align: right;\n",
       "    }\n",
       "</style>\n",
       "<table border=\"1\" class=\"dataframe\">\n",
       "  <thead>\n",
       "    <tr style=\"text-align: right;\">\n",
       "      <th></th>\n",
       "      <th>passenger_count</th>\n",
       "      <th>trip_distance</th>\n",
       "      <th>tip_amount</th>\n",
       "    </tr>\n",
       "  </thead>\n",
       "  <tbody>\n",
       "    <tr>\n",
       "      <th>count</th>\n",
       "      <td>6.253502e+06</td>\n",
       "      <td>6.253502e+06</td>\n",
       "      <td>6.253502e+06</td>\n",
       "    </tr>\n",
       "    <tr>\n",
       "      <th>mean</th>\n",
       "      <td>1.518435e+00</td>\n",
       "      <td>2.881191e+00</td>\n",
       "      <td>2.209432e+00</td>\n",
       "    </tr>\n",
       "    <tr>\n",
       "      <th>std</th>\n",
       "      <td>1.154686e+00</td>\n",
       "      <td>3.763497e+00</td>\n",
       "      <td>2.686306e+00</td>\n",
       "    </tr>\n",
       "    <tr>\n",
       "      <th>min</th>\n",
       "      <td>0.000000e+00</td>\n",
       "      <td>1.000000e-02</td>\n",
       "      <td>0.000000e+00</td>\n",
       "    </tr>\n",
       "    <tr>\n",
       "      <th>25%</th>\n",
       "      <td>1.000000e+00</td>\n",
       "      <td>9.900000e-01</td>\n",
       "      <td>0.000000e+00</td>\n",
       "    </tr>\n",
       "    <tr>\n",
       "      <th>50%</th>\n",
       "      <td>1.000000e+00</td>\n",
       "      <td>1.600000e+00</td>\n",
       "      <td>1.960000e+00</td>\n",
       "    </tr>\n",
       "    <tr>\n",
       "      <th>75%</th>\n",
       "      <td>2.000000e+00</td>\n",
       "      <td>2.900000e+00</td>\n",
       "      <td>2.860000e+00</td>\n",
       "    </tr>\n",
       "    <tr>\n",
       "      <th>max</th>\n",
       "      <td>6.000000e+00</td>\n",
       "      <td>2.628800e+02</td>\n",
       "      <td>1.100000e+03</td>\n",
       "    </tr>\n",
       "  </tbody>\n",
       "</table>\n",
       "</div>"
      ],
      "text/plain": [
       "       passenger_count  trip_distance    tip_amount\n",
       "count     6.253502e+06   6.253502e+06  6.253502e+06\n",
       "mean      1.518435e+00   2.881191e+00  2.209432e+00\n",
       "std       1.154686e+00   3.763497e+00  2.686306e+00\n",
       "min       0.000000e+00   1.000000e-02  0.000000e+00\n",
       "25%       1.000000e+00   9.900000e-01  0.000000e+00\n",
       "50%       1.000000e+00   1.600000e+00  1.960000e+00\n",
       "75%       2.000000e+00   2.900000e+00  2.860000e+00\n",
       "max       6.000000e+00   2.628800e+02  1.100000e+03"
      ]
     },
     "execution_count": 25,
     "metadata": {},
     "output_type": "execute_result"
    }
   ],
   "source": [
    "# Удаление записей поездок с более чем 6 пассажирами \n",
    "dfTipAnalysisPandasFiltered = dfTipAnalysisPandas[dfTipAnalysisPandas.passenger_count <= 6]\n",
    "dfTipAnalysisPandasFiltered.describe()\n"
   ]
  },
  {
   "cell_type": "code",
   "execution_count": 26,
   "metadata": {},
   "outputs": [
    {
     "data": {
      "text/plain": [
       "<Axes: xlabel='passenger_count', ylabel='tip_amount'>"
      ]
     },
     "execution_count": 26,
     "metadata": {},
     "output_type": "execute_result"
    },
    {
     "data": {
      "image/png": "[encoded data removed]",
      "text/plain": [
       "<Figure size 640x480 with 1 Axes>"
      ]
     },
     "metadata": {},
     "output_type": "display_data"
    }
   ],
   "source": [
    "# Оценка сависимости чаевых от количества перевозимых пассажиров\n",
    "# Построение точечного графика scatterplot с помощью библиотеки seaborn\n",
    "\n",
    "sns.scatterplot(data=dfTipAnalysisPandasFiltered, x=\"passenger_count\", y=\"tip_amount\")"
   ]
  },
  {
   "cell_type": "code",
   "execution_count": 27,
   "metadata": {},
   "outputs": [
    {
     "name": "stdout",
     "output_type": "stream",
     "text": [
      "Количество поездок с чаевыми более 10: 139172\n",
      "Количество поездок с чаевыми более 20: 4923\n",
      "Количество поездок с чаевыми более 30: 1375\n",
      "Количество поездок с чаевыми более 50: 424\n",
      "Количество поездок с чаевыми более 100: 74\n",
      "Количество поездок с чаевыми более 200: 17\n"
     ]
    }
   ],
   "source": [
    "print('Количество поездок с чаевыми более 10: ' + str(dfTipAnalysisPandas[dfTipAnalysisPandas.tip_amount > 10].tip_amount.count()))\n",
    "print('Количество поездок с чаевыми более 20: ' + str(dfTipAnalysisPandas[dfTipAnalysisPandas.tip_amount > 20].tip_amount.count()))\n",
    "print('Количество поездок с чаевыми более 30: ' + str(dfTipAnalysisPandas[dfTipAnalysisPandas.tip_amount > 30].tip_amount.count()))\n",
    "print('Количество поездок с чаевыми более 50: ' + str(dfTipAnalysisPandas[dfTipAnalysisPandas.tip_amount > 50].tip_amount.count()))\n",
    "print('Количество поездок с чаевыми более 100: ' + str(dfTipAnalysisPandas[dfTipAnalysisPandas.tip_amount > 100].tip_amount.count()))\n",
    "print('Количество поездок с чаевыми более 200: ' + str(dfTipAnalysisPandas[dfTipAnalysisPandas.tip_amount > 200].tip_amount.count()))"
   ]
  },
  {
   "cell_type": "markdown",
   "metadata": {},
   "source": [
    "Очевидно, что записей с чаевыми более 100, крайне мало. Их можно отфильтровать"
   ]
  },
  {
   "cell_type": "code",
   "execution_count": 28,
   "metadata": {},
   "outputs": [
    {
     "data": {
      "text/html": [
       "<div>\n",
       "<style scoped>\n",
       "    .dataframe tbody tr th:only-of-type {\n",
       "        vertical-align: middle;\n",
       "    }\n",
       "\n",
       "    .dataframe tbody tr th {\n",
       "        vertical-align: top;\n",
       "    }\n",
       "\n",
       "    .dataframe thead th {\n",
       "        text-align: right;\n",
       "    }\n",
       "</style>\n",
       "<table border=\"1\" class=\"dataframe\">\n",
       "  <thead>\n",
       "    <tr style=\"text-align: right;\">\n",
       "      <th></th>\n",
       "      <th>passenger_count</th>\n",
       "      <th>trip_distance</th>\n",
       "      <th>tip_amount</th>\n",
       "    </tr>\n",
       "  </thead>\n",
       "  <tbody>\n",
       "    <tr>\n",
       "      <th>count</th>\n",
       "      <td>6.253428e+06</td>\n",
       "      <td>6.253428e+06</td>\n",
       "      <td>6.253428e+06</td>\n",
       "    </tr>\n",
       "    <tr>\n",
       "      <th>mean</th>\n",
       "      <td>1.518432e+00</td>\n",
       "      <td>2.880993e+00</td>\n",
       "      <td>2.207199e+00</td>\n",
       "    </tr>\n",
       "    <tr>\n",
       "      <th>std</th>\n",
       "      <td>1.154683e+00</td>\n",
       "      <td>3.762113e+00</td>\n",
       "      <td>2.562389e+00</td>\n",
       "    </tr>\n",
       "    <tr>\n",
       "      <th>min</th>\n",
       "      <td>0.000000e+00</td>\n",
       "      <td>1.000000e-02</td>\n",
       "      <td>0.000000e+00</td>\n",
       "    </tr>\n",
       "    <tr>\n",
       "      <th>25%</th>\n",
       "      <td>1.000000e+00</td>\n",
       "      <td>9.900000e-01</td>\n",
       "      <td>0.000000e+00</td>\n",
       "    </tr>\n",
       "    <tr>\n",
       "      <th>50%</th>\n",
       "      <td>1.000000e+00</td>\n",
       "      <td>1.600000e+00</td>\n",
       "      <td>1.960000e+00</td>\n",
       "    </tr>\n",
       "    <tr>\n",
       "      <th>75%</th>\n",
       "      <td>2.000000e+00</td>\n",
       "      <td>2.900000e+00</td>\n",
       "      <td>2.860000e+00</td>\n",
       "    </tr>\n",
       "    <tr>\n",
       "      <th>max</th>\n",
       "      <td>6.000000e+00</td>\n",
       "      <td>2.628800e+02</td>\n",
       "      <td>1.000000e+02</td>\n",
       "    </tr>\n",
       "  </tbody>\n",
       "</table>\n",
       "</div>"
      ],
      "text/plain": [
       "       passenger_count  trip_distance    tip_amount\n",
       "count     6.253428e+06   6.253428e+06  6.253428e+06\n",
       "mean      1.518432e+00   2.880993e+00  2.207199e+00\n",
       "std       1.154683e+00   3.762113e+00  2.562389e+00\n",
       "min       0.000000e+00   1.000000e-02  0.000000e+00\n",
       "25%       1.000000e+00   9.900000e-01  0.000000e+00\n",
       "50%       1.000000e+00   1.600000e+00  1.960000e+00\n",
       "75%       2.000000e+00   2.900000e+00  2.860000e+00\n",
       "max       6.000000e+00   2.628800e+02  1.000000e+02"
      ]
     },
     "execution_count": 28,
     "metadata": {},
     "output_type": "execute_result"
    }
   ],
   "source": [
    "dfTipAnalysisPandasFiltered = dfTipAnalysisPandasFiltered[dfTipAnalysisPandasFiltered.tip_amount <= 100]\n",
    "dfTipAnalysisPandasFiltered.describe()"
   ]
  },
  {
   "cell_type": "code",
   "execution_count": 29,
   "metadata": {},
   "outputs": [
    {
     "data": {
      "text/plain": [
       "<Axes: xlabel='passenger_count', ylabel='tip_amount'>"
      ]
     },
     "execution_count": 29,
     "metadata": {},
     "output_type": "execute_result"
    },
    {
     "data": {
      "image/png": "[encoded data removed]",
      "text/plain": [
       "<Figure size 640x480 with 1 Axes>"
      ]
     },
     "metadata": {},
     "output_type": "display_data"
    }
   ],
   "source": [
    "# Построение точечного графика scatterplot с помощью библиотеки seaborn\n",
    "\n",
    "sns.scatterplot(data=dfTipAnalysisPandasFiltered, x=\"passenger_count\", y=\"tip_amount\")"
   ]
  },
  {
   "cell_type": "code",
   "execution_count": 30,
   "metadata": {},
   "outputs": [
    {
     "data": {
      "text/plain": [
       "<Axes: xlabel='passenger_count', ylabel='tip_amount'>"
      ]
     },
     "execution_count": 30,
     "metadata": {},
     "output_type": "execute_result"
    },
    {
     "data": {
      "image/png": "[encoded data removed]",
      "text/plain": [
       "<Figure size 640x480 with 1 Axes>"
      ]
     },
     "metadata": {},
     "output_type": "display_data"
    }
   ],
   "source": [
    "# Постронение диаграммы barplot для оценки соотношения количества пассажииров и размера чаевых без выбросов\n",
    "sns.barplot(data=dfTipAnalysisPandasFiltered, x=\"passenger_count\", y=\"tip_amount\")\n"
   ]
  },
  {
   "cell_type": "markdown",
   "metadata": {},
   "source": [
    "- Диаграммы scatterplot и barplot свидетельствуют о незначительной связи размера чаевых и количества пассажиров такси.\n",
    "- Также диаграмма scatterplot позволяет судить о наличии выбросов (очень выделяющиеся своим размером чаевые). Для более глубокого анализа их можно отсечь. В данном случае, при оценке зависимости размера чаевых от количества перевозимых пассажиров, эти выбросы не оказали особого влияния."
   ]
  },
  {
   "cell_type": "code",
   "execution_count": 31,
   "metadata": {},
   "outputs": [
    {
     "name": "stderr",
     "output_type": "stream",
     "text": [
      "/tmp/ipykernel_28879/809985082.py:2: UserWarning: Boolean Series key will be reindexed to match DataFrame index.\n",
      "  print(dfTipAnalysisPandasFiltered[dfTipAnalysisPandas.passenger_count == 0].describe().round(0))\n"
     ]
    },
    {
     "name": "stdout",
     "output_type": "stream",
     "text": [
      "       passenger_count  trip_distance  tip_amount\n",
      "count         112087.0       112087.0    112087.0\n",
      "mean               0.0            3.0         2.0\n",
      "std                0.0            4.0         2.0\n",
      "min                0.0            0.0         0.0\n",
      "25%                0.0            1.0         0.0\n",
      "50%                0.0            2.0         2.0\n",
      "75%                0.0            3.0         3.0\n",
      "max                0.0           94.0        93.0\n"
     ]
    },
    {
     "name": "stderr",
     "output_type": "stream",
     "text": [
      "/tmp/ipykernel_28879/809985082.py:3: UserWarning: Boolean Series key will be reindexed to match DataFrame index.\n",
      "  print(dfTipAnalysisPandasFiltered[dfTipAnalysisPandas.passenger_count == 1].describe().round(0))\n"
     ]
    },
    {
     "name": "stdout",
     "output_type": "stream",
     "text": [
      "       passenger_count  trip_distance  tip_amount\n",
      "count        4478679.0      4478679.0   4478679.0\n",
      "mean               1.0            3.0         2.0\n",
      "std                0.0            4.0         3.0\n",
      "min                1.0            0.0         0.0\n",
      "25%                1.0            1.0         0.0\n",
      "50%                1.0            2.0         2.0\n",
      "75%                1.0            3.0         3.0\n",
      "max                1.0          212.0       100.0\n"
     ]
    },
    {
     "name": "stderr",
     "output_type": "stream",
     "text": [
      "/tmp/ipykernel_28879/809985082.py:4: UserWarning: Boolean Series key will be reindexed to match DataFrame index.\n",
      "  print(dfTipAnalysisPandasFiltered[dfTipAnalysisPandas.passenger_count == 2].describe().round(0))\n"
     ]
    },
    {
     "name": "stdout",
     "output_type": "stream",
     "text": [
      "       passenger_count  trip_distance  tip_amount\n",
      "count         936759.0       936759.0    936759.0\n",
      "mean               2.0            3.0         2.0\n",
      "std                0.0            4.0         3.0\n",
      "min                2.0            0.0         0.0\n",
      "25%                2.0            1.0         0.0\n",
      "50%                2.0            2.0         2.0\n",
      "75%                2.0            3.0         3.0\n",
      "max                2.0          242.0       100.0\n"
     ]
    },
    {
     "name": "stderr",
     "output_type": "stream",
     "text": [
      "/tmp/ipykernel_28879/809985082.py:5: UserWarning: Boolean Series key will be reindexed to match DataFrame index.\n",
      "  print(dfTipAnalysisPandasFiltered[dfTipAnalysisPandas.passenger_count == 3].describe().round(0))\n"
     ]
    },
    {
     "name": "stdout",
     "output_type": "stream",
     "text": [
      "       passenger_count  trip_distance  tip_amount\n",
      "count         248036.0       248036.0    248036.0\n",
      "mean               3.0            3.0         2.0\n",
      "std                0.0            4.0         3.0\n",
      "min                3.0            0.0         0.0\n",
      "25%                3.0            1.0         0.0\n",
      "50%                3.0            2.0         2.0\n",
      "75%                3.0            3.0         3.0\n",
      "max                3.0          100.0       100.0\n"
     ]
    },
    {
     "name": "stderr",
     "output_type": "stream",
     "text": [
      "/tmp/ipykernel_28879/809985082.py:6: UserWarning: Boolean Series key will be reindexed to match DataFrame index.\n",
      "  print(dfTipAnalysisPandasFiltered[dfTipAnalysisPandas.passenger_count == 4].describe().round(0))\n"
     ]
    },
    {
     "name": "stdout",
     "output_type": "stream",
     "text": [
      "       passenger_count  trip_distance  tip_amount\n",
      "count         121810.0       121810.0    121810.0\n",
      "mean               4.0            3.0         2.0\n",
      "std                0.0            4.0         3.0\n",
      "min                4.0            0.0         0.0\n",
      "25%                4.0            1.0         0.0\n",
      "50%                4.0            2.0         2.0\n",
      "75%                4.0            3.0         3.0\n",
      "max                4.0          263.0        94.0\n"
     ]
    },
    {
     "name": "stderr",
     "output_type": "stream",
     "text": [
      "/tmp/ipykernel_28879/809985082.py:7: UserWarning: Boolean Series key will be reindexed to match DataFrame index.\n",
      "  print(dfTipAnalysisPandasFiltered[dfTipAnalysisPandas.passenger_count == 5].describe().round(0))\n"
     ]
    },
    {
     "name": "stdout",
     "output_type": "stream",
     "text": [
      "       passenger_count  trip_distance  tip_amount\n",
      "count         224479.0       224479.0    224479.0\n",
      "mean               5.0            3.0         2.0\n",
      "std                0.0            4.0         3.0\n",
      "min                5.0            0.0         0.0\n",
      "25%                5.0            1.0         0.0\n",
      "50%                5.0            2.0         2.0\n",
      "75%                5.0            3.0         3.0\n",
      "max                5.0           74.0       100.0\n"
     ]
    },
    {
     "name": "stderr",
     "output_type": "stream",
     "text": [
      "/tmp/ipykernel_28879/809985082.py:8: UserWarning: Boolean Series key will be reindexed to match DataFrame index.\n",
      "  print(dfTipAnalysisPandasFiltered[dfTipAnalysisPandas.passenger_count == 6].describe().round(0))\n"
     ]
    },
    {
     "name": "stdout",
     "output_type": "stream",
     "text": [
      "       passenger_count  trip_distance  tip_amount\n",
      "count         131578.0       131578.0    131578.0\n",
      "mean               6.0            3.0         2.0\n",
      "std                0.0            4.0         3.0\n",
      "min                6.0            0.0         0.0\n",
      "25%                6.0            1.0         0.0\n",
      "50%                6.0            2.0         2.0\n",
      "75%                6.0            3.0         3.0\n",
      "max                6.0           63.0       100.0\n"
     ]
    }
   ],
   "source": [
    "# Описательная статистика для выборок на основе количества пассажиров\n",
    "print(dfTipAnalysisPandasFiltered[dfTipAnalysisPandas.passenger_count == 0].describe().round(0))\n",
    "print(dfTipAnalysisPandasFiltered[dfTipAnalysisPandas.passenger_count == 1].describe().round(0))\n",
    "print(dfTipAnalysisPandasFiltered[dfTipAnalysisPandas.passenger_count == 2].describe().round(0))\n",
    "print(dfTipAnalysisPandasFiltered[dfTipAnalysisPandas.passenger_count == 3].describe().round(0))\n",
    "print(dfTipAnalysisPandasFiltered[dfTipAnalysisPandas.passenger_count == 4].describe().round(0))\n",
    "print(dfTipAnalysisPandasFiltered[dfTipAnalysisPandas.passenger_count == 5].describe().round(0))\n",
    "print(dfTipAnalysisPandasFiltered[dfTipAnalysisPandas.passenger_count == 6].describe().round(0))"
   ]
  },
  {
   "cell_type": "markdown",
   "metadata": {},
   "source": [
    "Статистические параметры, описывающие данные, подтверждают вывод о незначительном влиянии количества пассажиров на размер чаевых."
   ]
  },
  {
   "cell_type": "markdown",
   "metadata": {},
   "source": [
    "Вывод: размер чаевых незначительно зависит от количества пассажиров"
   ]
  },
  {
   "cell_type": "markdown",
   "metadata": {},
   "source": [
    "# Анализ соотношения размера чаевых и пройденного расстояния"
   ]
  },
  {
   "cell_type": "code",
   "execution_count": 33,
   "metadata": {},
   "outputs": [
    {
     "name": "stdout",
     "output_type": "stream",
     "text": [
      "Количество поездок с на расстояние более 50: 364\n",
      "Количество поездок с на расстояние более 40: 875\n",
      "Количество поездок с на расстояние более 30: 3195\n",
      "Количество поездок с на расстояние более 20: 40845\n",
      "Количество поездок с на расстояние более 10: 341512\n"
     ]
    }
   ],
   "source": [
    "# Оценка распределения дистанции поездок \n",
    "print('Количество поездок с на расстояние более 50: ' + str(dfTipAnalysisPandas[dfTipAnalysisPandas.trip_distance > 50].trip_distance.count()))\n",
    "print('Количество поездок с на расстояние более 40: ' + str(dfTipAnalysisPandas[dfTipAnalysisPandas.trip_distance > 40].trip_distance.count()))\n",
    "print('Количество поездок с на расстояние более 30: ' + str(dfTipAnalysisPandas[dfTipAnalysisPandas.trip_distance > 30].trip_distance.count()))\n",
    "print('Количество поездок с на расстояние более 20: ' + str(dfTipAnalysisPandas[dfTipAnalysisPandas.trip_distance > 20].trip_distance.count()))\n",
    "print('Количество поездок с на расстояние более 10: ' + str(dfTipAnalysisPandas[dfTipAnalysisPandas.trip_distance > 10].trip_distance.count()))"
   ]
  },
  {
   "cell_type": "markdown",
   "metadata": {},
   "source": [
    "- Количество попоездок на расстояние более 40 км является незначительным и может быть отфильтровано из датафрейма"
   ]
  },
  {
   "cell_type": "code",
   "execution_count": 34,
   "metadata": {},
   "outputs": [],
   "source": [
    "# Отфильтровывание выбросов (значения расстояния более 40)\n",
    "dfTipAnalysisPandasFiltered = dfTipAnalysisPandasFiltered[dfTipAnalysisPandasFiltered.trip_distance <= 40]"
   ]
  },
  {
   "cell_type": "code",
   "execution_count": 35,
   "metadata": {},
   "outputs": [],
   "source": [
    "# Сортировка данных по дистанции, размеру чаевых, количеству перевезенных пассажиров\n",
    "dfTipAnalysisPandasFilteredSortByDist = dfTipAnalysisPandasFiltered.sort_values(by=['trip_distance', 'tip_amount', 'passenger_count'], ascending=[True, True, True])"
   ]
  },
  {
   "cell_type": "code",
   "execution_count": 36,
   "metadata": {},
   "outputs": [],
   "source": [
    "# Колонка с диапазонами пройденного расстояния\n",
    "dfTipAnalysisPandasFilteredSortByDist['bins_dist'] = pd.cut(dfTipAnalysisPandasFilteredSortByDist['trip_distance'], bins=[0, 1, 2, 3, 4, 5, 6, 7, 8, 9, 10, 15, 20])\n"
   ]
  },
  {
   "cell_type": "code",
   "execution_count": 38,
   "metadata": {},
   "outputs": [
    {
     "name": "stderr",
     "output_type": "stream",
     "text": [
      "/opt/python/anaconda/lib/python3.11/site-packages/seaborn/_oldcore.py:1119: FutureWarning: use_inf_as_na option is deprecated and will be removed in a future version. Convert inf values to NaN before operating instead.\n",
      "  with pd.option_context('mode.use_inf_as_na', True):\n",
      "/opt/python/anaconda/lib/python3.11/site-packages/seaborn/_oldcore.py:1119: FutureWarning: use_inf_as_na option is deprecated and will be removed in a future version. Convert inf values to NaN before operating instead.\n",
      "  with pd.option_context('mode.use_inf_as_na', True):\n"
     ]
    },
    {
     "data": {
      "text/plain": [
       "<Axes: xlabel='trip_distance', ylabel='tip_amount'>"
      ]
     },
     "execution_count": 38,
     "metadata": {},
     "output_type": "execute_result"
    },
    {
     "data": {
      "image/png": "[encoded data removed]",
      "text/plain": [
       "<Figure size 640x480 with 1 Axes>"
      ]
     },
     "metadata": {},
     "output_type": "display_data"
    }
   ],
   "source": [
    "# График зависимости размера чаевых от пройденного расстояния\n",
    "sns.lineplot(data=dfTipAnalysisPandasFilteredSortByDist, x=\"trip_distance\", y=\"tip_amount\")"
   ]
  },
  {
   "cell_type": "markdown",
   "metadata": {},
   "source": [
    "- На основе построенного графика зависимости размера чаевых от пройденного расстояния можно сделать вывод о том, что с увеличением пройденного расстояния, растёт и размер чаевых.\n"
   ]
  },
  {
   "cell_type": "markdown",
   "metadata": {},
   "source": [
    "* Построение тепловой карты для отображения влияния пройденного расстояния и количества пассажиров на размер чаевых"
   ]
  },
  {
   "cell_type": "code",
   "execution_count": 39,
   "metadata": {},
   "outputs": [
    {
     "data": {
      "text/html": [
       "<div>\n",
       "<style scoped>\n",
       "    .dataframe tbody tr th:only-of-type {\n",
       "        vertical-align: middle;\n",
       "    }\n",
       "\n",
       "    .dataframe tbody tr th {\n",
       "        vertical-align: top;\n",
       "    }\n",
       "\n",
       "    .dataframe thead th {\n",
       "        text-align: right;\n",
       "    }\n",
       "</style>\n",
       "<table border=\"1\" class=\"dataframe\">\n",
       "  <thead>\n",
       "    <tr style=\"text-align: right;\">\n",
       "      <th>passenger_count</th>\n",
       "      <th>0</th>\n",
       "      <th>1</th>\n",
       "      <th>2</th>\n",
       "      <th>3</th>\n",
       "      <th>4</th>\n",
       "      <th>5</th>\n",
       "      <th>6</th>\n",
       "    </tr>\n",
       "    <tr>\n",
       "      <th>bins_dist</th>\n",
       "      <th></th>\n",
       "      <th></th>\n",
       "      <th></th>\n",
       "      <th></th>\n",
       "      <th></th>\n",
       "      <th></th>\n",
       "      <th></th>\n",
       "    </tr>\n",
       "  </thead>\n",
       "  <tbody>\n",
       "    <tr>\n",
       "      <th>(0, 1]</th>\n",
       "      <td>1.40</td>\n",
       "      <td>1.46</td>\n",
       "      <td>1.46</td>\n",
       "      <td>1.45</td>\n",
       "      <td>1.240</td>\n",
       "      <td>1.46</td>\n",
       "      <td>1.46</td>\n",
       "    </tr>\n",
       "    <tr>\n",
       "      <th>(1, 2]</th>\n",
       "      <td>2.00</td>\n",
       "      <td>2.00</td>\n",
       "      <td>2.00</td>\n",
       "      <td>2.00</td>\n",
       "      <td>1.950</td>\n",
       "      <td>2.00</td>\n",
       "      <td>2.00</td>\n",
       "    </tr>\n",
       "    <tr>\n",
       "      <th>(2, 3]</th>\n",
       "      <td>2.50</td>\n",
       "      <td>2.56</td>\n",
       "      <td>2.56</td>\n",
       "      <td>2.55</td>\n",
       "      <td>2.370</td>\n",
       "      <td>2.56</td>\n",
       "      <td>2.56</td>\n",
       "    </tr>\n",
       "    <tr>\n",
       "      <th>(3, 4]</th>\n",
       "      <td>3.00</td>\n",
       "      <td>3.06</td>\n",
       "      <td>3.06</td>\n",
       "      <td>3.00</td>\n",
       "      <td>2.740</td>\n",
       "      <td>3.16</td>\n",
       "      <td>3.06</td>\n",
       "    </tr>\n",
       "    <tr>\n",
       "      <th>(4, 5]</th>\n",
       "      <td>3.55</td>\n",
       "      <td>3.57</td>\n",
       "      <td>3.66</td>\n",
       "      <td>3.56</td>\n",
       "      <td>3.000</td>\n",
       "      <td>3.66</td>\n",
       "      <td>3.56</td>\n",
       "    </tr>\n",
       "    <tr>\n",
       "      <th>(5, 6]</th>\n",
       "      <td>4.00</td>\n",
       "      <td>4.00</td>\n",
       "      <td>4.00</td>\n",
       "      <td>3.66</td>\n",
       "      <td>3.000</td>\n",
       "      <td>4.06</td>\n",
       "      <td>3.96</td>\n",
       "    </tr>\n",
       "    <tr>\n",
       "      <th>(6, 7]</th>\n",
       "      <td>4.00</td>\n",
       "      <td>4.36</td>\n",
       "      <td>4.26</td>\n",
       "      <td>4.00</td>\n",
       "      <td>3.235</td>\n",
       "      <td>4.32</td>\n",
       "      <td>4.10</td>\n",
       "    </tr>\n",
       "    <tr>\n",
       "      <th>(7, 8]</th>\n",
       "      <td>4.94</td>\n",
       "      <td>5.00</td>\n",
       "      <td>5.00</td>\n",
       "      <td>4.60</td>\n",
       "      <td>4.955</td>\n",
       "      <td>5.00</td>\n",
       "      <td>5.00</td>\n",
       "    </tr>\n",
       "    <tr>\n",
       "      <th>(8, 9]</th>\n",
       "      <td>5.95</td>\n",
       "      <td>5.86</td>\n",
       "      <td>5.76</td>\n",
       "      <td>5.76</td>\n",
       "      <td>5.055</td>\n",
       "      <td>5.80</td>\n",
       "      <td>5.86</td>\n",
       "    </tr>\n",
       "    <tr>\n",
       "      <th>(9, 10]</th>\n",
       "      <td>6.45</td>\n",
       "      <td>6.46</td>\n",
       "      <td>6.26</td>\n",
       "      <td>6.25</td>\n",
       "      <td>6.160</td>\n",
       "      <td>6.46</td>\n",
       "      <td>6.36</td>\n",
       "    </tr>\n",
       "    <tr>\n",
       "      <th>(10, 15]</th>\n",
       "      <td>6.45</td>\n",
       "      <td>7.05</td>\n",
       "      <td>6.75</td>\n",
       "      <td>6.46</td>\n",
       "      <td>5.000</td>\n",
       "      <td>6.96</td>\n",
       "      <td>7.06</td>\n",
       "    </tr>\n",
       "    <tr>\n",
       "      <th>(15, 20]</th>\n",
       "      <td>10.00</td>\n",
       "      <td>10.16</td>\n",
       "      <td>10.00</td>\n",
       "      <td>10.00</td>\n",
       "      <td>8.660</td>\n",
       "      <td>10.66</td>\n",
       "      <td>10.46</td>\n",
       "    </tr>\n",
       "  </tbody>\n",
       "</table>\n",
       "</div>"
      ],
      "text/plain": [
       "passenger_count      0      1      2      3      4      5      6\n",
       "bins_dist                                                       \n",
       "(0, 1]            1.40   1.46   1.46   1.45  1.240   1.46   1.46\n",
       "(1, 2]            2.00   2.00   2.00   2.00  1.950   2.00   2.00\n",
       "(2, 3]            2.50   2.56   2.56   2.55  2.370   2.56   2.56\n",
       "(3, 4]            3.00   3.06   3.06   3.00  2.740   3.16   3.06\n",
       "(4, 5]            3.55   3.57   3.66   3.56  3.000   3.66   3.56\n",
       "(5, 6]            4.00   4.00   4.00   3.66  3.000   4.06   3.96\n",
       "(6, 7]            4.00   4.36   4.26   4.00  3.235   4.32   4.10\n",
       "(7, 8]            4.94   5.00   5.00   4.60  4.955   5.00   5.00\n",
       "(8, 9]            5.95   5.86   5.76   5.76  5.055   5.80   5.86\n",
       "(9, 10]           6.45   6.46   6.26   6.25  6.160   6.46   6.36\n",
       "(10, 15]          6.45   7.05   6.75   6.46  5.000   6.96   7.06\n",
       "(15, 20]         10.00  10.16  10.00  10.00  8.660  10.66  10.46"
      ]
     },
     "execution_count": 39,
     "metadata": {},
     "output_type": "execute_result"
    }
   ],
   "source": [
    "pivot = dfTipAnalysisPandasFilteredSortByDist.pivot_table(\n",
    "    index=[\"bins_dist\"],\n",
    "    columns=[\"passenger_count\"],\n",
    "    values=\"tip_amount\",\n",
    "    aggfunc='median')\n",
    "pivot"
   ]
  },
  {
   "cell_type": "code",
   "execution_count": 42,
   "metadata": {},
   "outputs": [
    {
     "data": {
      "text/plain": [
       "Text(0.5, 1.0, 'Зависимость размера чаевых от пройденного расстояния и количества пассажиров')"
      ]
     },
     "execution_count": 42,
     "metadata": {},
     "output_type": "execute_result"
    },
    {
     "data": {
      "image/png": "[encoded data removed]",
      "text/plain": [
       "<Figure size 1500x1000 with 2 Axes>"
      ]
     },
     "metadata": {},
     "output_type": "display_data"
    }
   ],
   "source": [
    "fig, axes = plt.subplots(figsize=(15, 10))\n",
    "sns.heatmap(data=pivot, cmap=\"coolwarm\", annot=True)\\\n",
    "    .set_title('Зависимость размера чаевых от пройденного расстояния и количества пассажиров', fontsize=14)"
   ]
  },
  {
   "cell_type": "markdown",
   "metadata": {},
   "source": [
    "На основании тепловой карты очевидно, что размер чаевых прямопропорционален пройденному расстоянию. На расстоянии 15 - 20 чаевые - наибольшие, это практически не зависит от количества пассажиров. Меньше всего чаевых оставляют группы пассажиров в количестве 4 человек. Больше всего чаевых оставляют одинокие пассажиры и группы по 5-6 человек."
   ]
  }
 ],
 "metadata": {
  "kernelspec": {
   "display_name": "base",
   "language": "python",
   "name": "python3"
  },
  "language_info": {
   "codemirror_mode": {
    "name": "ipython",
    "version": 3
   },
   "file_extension": ".py",
   "mimetype": "text/x-python",
   "name": "python",
   "nbconvert_exporter": "python",
   "pygments_lexer": "ipython3",
   "version": "3.11.7"
  }
 },
 "nbformat": 4,
 "nbformat_minor": 2
}
